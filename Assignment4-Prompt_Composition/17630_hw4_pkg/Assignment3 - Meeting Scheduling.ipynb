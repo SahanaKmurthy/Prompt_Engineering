{
 "cells": [
  {
   "cell_type": "markdown",
   "id": "5a13ce6d-c58c-4cb3-ad2d-4e73857b0032",
   "metadata": {},
   "source": [
    "## Assignment 3 - Meeting Scheduling\n",
    "\n",
    "In this assignment, students will complete three consequecative tasks: (1) classify e-mail messages as to whether they are meeting-related using finite set of meeting labels; (2) extract meeting dates from meeting-related e-mails; and (3) prepare a function call using OpenAI's function calling prompt."
   ]
  },
  {
   "cell_type": "code",
   "execution_count": null,
   "id": "00551406-37e6-4828-8bb1-4470fff721a0",
   "metadata": {},
   "outputs": [],
   "source": [
    "import json\n",
    "\n",
    "data = json.load(open('training_data.json', 'r'))\n",
    "print('Read %i messages' % len(data))"
   ]
  },
  {
   "cell_type": "code",
   "execution_count": null,
   "id": "e1d6cc2d-77d9-46af-855f-109d79904138",
   "metadata": {},
   "outputs": [],
   "source": [
    "from openai import OpenAI\n",
    "client = OpenAI()\n",
    "\n",
    "def prompt_model(prompt, response_format=None):\n",
    "    completion = client.chat.completions.create(\n",
    "        model='gpt-4o-mini',\n",
    "        messages=[\n",
    "            {'role': 'assistant', 'content': 'You are a helpful assistant.'},\n",
    "            {\n",
    "                'role': 'user',\n",
    "                'content': prompt\n",
    "            }\n",
    "        ],\n",
    "        response_format=response_format\n",
    "    )\n",
    "    return completion.choices[0].message.content"
   ]
  },
  {
   "cell_type": "markdown",
   "id": "2591c15e-d70f-4af9-907e-93cb43cf3e03",
   "metadata": {},
   "source": [
    "## Classify E-mails by Meeting Type\n",
    "\n",
    "Create prompt to classify messages and score prompt performance using accuracy."
   ]
  },
  {
   "cell_type": "code",
   "execution_count": null,
   "id": "347ae1b9-6f33-4675-b70f-d2fcaea8cd52",
   "metadata": {},
   "outputs": [],
   "source": []
  },
  {
   "cell_type": "markdown",
   "id": "9ac3a0c1-2514-47d1-ba74-7c7c1ce9d1db",
   "metadata": {},
   "source": [
    "## Extract Meeting Date and Time Information\n",
    "\n",
    "Create prompt to extract meeting date and times and score prompt performance using precision and recall."
   ]
  },
  {
   "cell_type": "code",
   "execution_count": null,
   "id": "fa9ea4a4-9b7d-47d9-b164-8cd0d1a1ffdc",
   "metadata": {},
   "outputs": [],
   "source": []
  },
  {
   "cell_type": "markdown",
   "id": "beddb0b6-3d3a-49a3-aaa8-c2345917bad2",
   "metadata": {},
   "source": [
    "## Prepare Function Call to Check Calendar Availability\n",
    "\n",
    "Given a date and time, prepare a function call using OpenAI's function calling framework: \n",
    "https://platform.openai.com/docs/guides/function-calling"
   ]
  },
  {
   "cell_type": "code",
   "execution_count": null,
   "id": "0324894e-4ec2-49d1-8f97-c09b68dd82bd",
   "metadata": {},
   "outputs": [],
   "source": []
  },
  {
   "cell_type": "code",
   "execution_count": null,
   "id": "1ecee91b-dc65-4f7f-b126-07084a635a92",
   "metadata": {},
   "outputs": [],
   "source": []
  },
  {
   "cell_type": "code",
   "execution_count": null,
   "id": "6973d81a-8528-475c-8876-92a7472596de",
   "metadata": {},
   "outputs": [],
   "source": []
  }
 ],
 "metadata": {
  "kernelspec": {
   "display_name": "Python 3 (ipykernel)",
   "language": "python",
   "name": "python3"
  },
  "language_info": {
   "codemirror_mode": {
    "name": "ipython",
    "version": 3
   },
   "file_extension": ".py",
   "mimetype": "text/x-python",
   "name": "python",
   "nbconvert_exporter": "python",
   "pygments_lexer": "ipython3",
   "version": "3.11.11"
  }
 },
 "nbformat": 4,
 "nbformat_minor": 5
}
